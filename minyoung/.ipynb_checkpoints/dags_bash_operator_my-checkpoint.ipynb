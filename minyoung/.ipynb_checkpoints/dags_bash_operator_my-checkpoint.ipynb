{
 "cells": [
  {
   "cell_type": "code",
   "execution_count": null,
   "id": "eb95a3b7-8473-4d1a-b565-50453f23f82e",
   "metadata": {},
   "outputs": [],
   "source": [
    "from datetime import datetime, timedelta\n",
    "\n",
    "from airflow import DAG\n",
    "from airflow.operators.bash import BashOperator\n",
    "from airflow.operators.dummy import DummyOperator\n",
    "\n",
    "with DAG(\n",
    "    dag_id='dags_bash_operator_my',\n",
    "    schedule_interval='0 0 * * *',\n",
    "    start_date=datetime(2021, 1, 1),\n",
    "    catchup=False,\n",
    "    dagrun_timeout=timedelta(minutes=60),\n",
    ") as dag:\n",
    "     bash_t1 = BashOperator(\n",
    "        task_id='bash_t1',\n",
    "        bash_command='echo whoami',\n",
    "    )\n",
    "\n",
    "     bash_t2 = BashOperator(\n",
    "        task_id='bash_t2',\n",
    "        bash_command='echo $HOSTNAME',\n",
    "    \n",
    "     )\n",
    "\n",
    "    bash_t1 >> bash_t2"
   ]
  }
 ],
 "metadata": {
  "kernelspec": {
   "display_name": "data_flow_kernel",
   "language": "python",
   "name": "data_flow"
  },
  "language_info": {
   "codemirror_mode": {
    "name": "ipython",
    "version": 3
   },
   "file_extension": ".py",
   "mimetype": "text/x-python",
   "name": "python",
   "nbconvert_exporter": "python",
   "pygments_lexer": "ipython3",
   "version": "3.9.21"
  }
 },
 "nbformat": 4,
 "nbformat_minor": 5
}
